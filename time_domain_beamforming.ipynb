{
 "cells": [
  {
   "cell_type": "markdown",
   "id": "parallel-tradition",
   "metadata": {},
   "source": [
    "# Simple example of time domain beamforming"
   ]
  },
  {
   "cell_type": "markdown",
   "id": "compound-agent",
   "metadata": {},
   "source": [
    "Let's imagine that we have one or more idealised point sound sources with spherical spreading impinging upon an n-element linear microphone array.\n",
    "\n",
    "The situation is depicted in the figures below.\n",
    "\n",
    "We have used the following helpful links in developing this example:\n",
    "\n",
    "* [Jupyter Interactors](https://github.com/bokeh/bokeh/tree/2.3.0/examples/howto/notebook_comms/Jupyter%20Interactors.ipynb)\n",
    "* [Jupyter User guide](https://docs.bokeh.org/en/latest/docs/user_guide/jupyter.html)\n",
    "* [Equations for Plane Waves, Spherical Waves, and Gaussian Beams](https://onlinelibrary.wiley.com/doi/pdf/10.1002/9781118939154.app3)\n",
    "* https://en.wikipedia.org/wiki/Wavelength\n",
    "\n",
    "\n",
    "Note that this interact does not seem to work in JupyterLab 3 at the moment.\n"
   ]
  },
  {
   "cell_type": "markdown",
   "id": "dedicated-empire",
   "metadata": {},
   "source": [
    "## Import modules"
   ]
  },
  {
   "cell_type": "code",
   "execution_count": null,
   "id": "controversial-permission",
   "metadata": {},
   "outputs": [],
   "source": [
    "from ipywidgets import interact\n",
    "import numpy as np\n",
    "\n",
    "from bokeh.io import push_notebook, show, output_notebook\n",
    "from bokeh.plotting import figure\n",
    "from bokeh.layouts import gridplot\n",
    "import seaborn as sns\n",
    "output_notebook()"
   ]
  },
  {
   "cell_type": "markdown",
   "id": "canadian-raising",
   "metadata": {},
   "source": [
    "## Set up parameters"
   ]
  },
  {
   "cell_type": "markdown",
   "id": "painted-deviation",
   "metadata": {},
   "source": []
  },
  {
   "cell_type": "code",
   "execution_count": null,
   "id": "loose-anaheim",
   "metadata": {},
   "outputs": [],
   "source": [
    "# Array characteristics\n",
    "num_elements = 3\n",
    "spacing = 0.1 # metres\n",
    "x_location = 0.5 # metres\n",
    "Arr = []\n",
    "for k in range(num_elements):\n",
    "    Arr.append([x_location,k*spacing])\n",
    "Arr = np.array(Arr)\n",
    "col = sns.color_palette(None, 3).as_hex()\n"
   ]
  },
  {
   "cell_type": "code",
   "execution_count": null,
   "id": "personal-protest",
   "metadata": {},
   "outputs": [],
   "source": [
    "# Source characteristics\n",
    "num_sources = 1\n",
    "Src = {}\n",
    "Src['position'] = []\n",
    "Src['amplitude'] = []\n",
    "Src['wavelength'] = []\n",
    "for n in range(num_sources):\n",
    "    Src['position'].append([-0.5,n-0.25]) # Source position\n",
    "    Src['amplitude'].append(1) # Source amplitude\n",
    "    Src['wavelength'].append(0.1) # Source wavelength\n",
    "\n",
    "#Src['amplitude'][1] = 0"
   ]
  },
  {
   "cell_type": "code",
   "execution_count": null,
   "id": "blocked-bennett",
   "metadata": {},
   "outputs": [],
   "source": [
    "sample_rate = 96000\n",
    "sample_length = 0.001 # seconds\n",
    "t_0 = 0\n",
    "π = np.pi\n",
    "c = 340 # m/s (Speed of sound)\n",
    "\n",
    "N = 500\n",
    "x_min = -1\n",
    "x_max = 1\n",
    "x = np.linspace(x_min, x_max, N)\n",
    "y = np.linspace(x_min, x_max, N)\n",
    "t = np.arange(t_0, t_0+sample_length, 1/sample_rate)\n",
    "xx, yy = np.meshgrid(x, y)\n",
    "\n",
    "Z = 0*xx\n",
    "for n in range(num_sources):\n",
    "    [s_x, s_y] = Src['position'][n] #location of source\n",
    "    A = Src['amplitude'][n]\n",
    "    λ = Src['wavelength'][n] # metres\n",
    "    f = c/λ # Hz\n",
    "\n",
    "    print(f'Source {n+1}: A = {A}, f = {f} Hz, λ = {λ} m , T = {1/f:0.2e} s') \n",
    "\n",
    "    rr = np.sqrt((xx-s_x)*(xx-s_x) + (yy-s_y)*(yy-s_y))\n",
    "    \n",
    "    #To make the plot look nicer, we can blank out the values within the\n",
    "    #near field (within two wavelengths of the source)\n",
    "    #rr = rr*(rr>2*λ)\n",
    "    \n",
    "    Z = Z + A/rr*np.sin(2*π/λ*(rr - c*t_0))\n",
    "\n",
    "    p = figure(tooltips=[(\"x\", \"$x\"), (\"y\", \"$y\"), (\"value\", \"@image\")],\n",
    "              )\n",
    "    p.xaxis.axis_label = p.yaxis.axis_label = 'Distance (m)'\n",
    "    p.x_range.range_padding = p.y_range.range_padding = 0\n",
    "\n",
    "    # must give a vector of image data for image parameter\n",
    "    p.image(image=[Z],\n",
    "            x=x_min, y=x_min,\n",
    "            dw=(x_max-x_min), dh=(x_max-x_min), \n",
    "            palette=\"Spectral11\", level=\"image\")\n",
    "\n",
    "for k in range(num_elements):\n",
    "    p.circle(Arr[k,0],Arr[k,1],\n",
    "             size=10,\n",
    "             fill_color=col[k],\n",
    "             legend_label=f'Array Element {k}',\n",
    "             )\n",
    "\n",
    "p.grid.grid_line_width = 0.5\n",
    "p.legend.click_policy=\"hide\"\n",
    "\n",
    "q = figure()\n",
    "q.xaxis.axis_label = 'Time (s)'\n",
    "q.yaxis.axis_label = 'Pressure'\n",
    "\n",
    "Y = []\n",
    "for k in range(num_elements):\n",
    "    F = 0*t\n",
    "    for n in range(num_sources):\n",
    "        [s_x, s_y] = Src['position'][n] #location of source\n",
    "        A = Src['amplitude'][n]\n",
    "        λ = Src['wavelength'][n] # metres\n",
    "        f = c/λ # Hz\n",
    "    \n",
    "        r = np.sqrt((Arr[k,0]-s_x)*(Arr[k,0]-s_x) + \n",
    "                    (Arr[k,1]-s_y)*(Arr[k,1]-s_y))\n",
    "        F = F + A/r*np.sin(2*π/λ*(r - c*t))\n",
    "    Y.append(F)\n",
    "    q.line(t,F,color=col[k],legend_label=f'Array Element {k}')\n",
    "\n",
    "q.legend.click_policy=\"hide\"\n",
    "\n",
    "show(gridplot([p, q], ncols=2), notebook_handle=True)"
   ]
  },
  {
   "cell_type": "code",
   "execution_count": null,
   "id": "joint-albuquerque",
   "metadata": {},
   "outputs": [],
   "source": []
  },
  {
   "cell_type": "code",
   "execution_count": null,
   "id": "opposed-robin",
   "metadata": {},
   "outputs": [],
   "source": [
    "def update(f, w=1, A=1, phi=0):\n",
    "    if   f == \"sin\": func = np.sin\n",
    "    elif f == \"cos\": func = np.cos\n",
    "    r.data_source.data['y'] = A * func(w * x + phi)\n",
    "    push_notebook()"
   ]
  },
  {
   "cell_type": "code",
   "execution_count": null,
   "id": "alternative-dubai",
   "metadata": {},
   "outputs": [],
   "source": [
    "show(p, notebook_handle=True)"
   ]
  },
  {
   "cell_type": "code",
   "execution_count": null,
   "id": "controlled-horse",
   "metadata": {},
   "outputs": [],
   "source": [
    "interact(update, f=[\"sin\", \"cos\"], w=(0,50), A=(1,10), phi=(0, 20, 0.1))"
   ]
  },
  {
   "cell_type": "code",
   "execution_count": null,
   "id": "rising-figure",
   "metadata": {},
   "outputs": [],
   "source": [
    "p.image?"
   ]
  },
  {
   "cell_type": "code",
   "execution_count": null,
   "id": "simple-listing",
   "metadata": {},
   "outputs": [],
   "source": []
  }
 ],
 "metadata": {
  "kernelspec": {
   "display_name": "Python 3",
   "language": "python",
   "name": "python3"
  },
  "language_info": {
   "codemirror_mode": {
    "name": "ipython",
    "version": 3
   },
   "file_extension": ".py",
   "mimetype": "text/x-python",
   "name": "python",
   "nbconvert_exporter": "python",
   "pygments_lexer": "ipython3",
   "version": "3.7.9"
  }
 },
 "nbformat": 4,
 "nbformat_minor": 5
}
