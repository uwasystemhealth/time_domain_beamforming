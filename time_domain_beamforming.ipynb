{
 "cells": [
  {
   "cell_type": "markdown",
   "id": "sustained-munich",
   "metadata": {},
   "source": [
    "# Simple example of time domain beamforming"
   ]
  },
  {
   "cell_type": "markdown",
   "id": "psychological-glasgow",
   "metadata": {},
   "source": [
    "Let's imagine that we have a point sound source in the far field, which is effectively creating planar waves impinging upon a two element array.\n",
    "\n",
    "The situation is depicted in the figure below.\n",
    "\n",
    "We begin by taking the [Jupyter Interactors](https://github.com/bokeh/bokeh/tree/2.3.0/examples/howto/notebook_comms/Jupyter%20Interactors.ipynb) example [User guide](https://docs.bokeh.org/en/latest/docs/user_guide/jupyter.html) and modifiying it to suit our requirements.\n",
    "\n",
    "Note that this interact does not seem to work in JupyterLab 3 at the moment.\n"
   ]
  },
  {
   "cell_type": "code",
   "execution_count": null,
   "id": "suitable-nitrogen",
   "metadata": {},
   "outputs": [],
   "source": [
    "from ipywidgets import interact\n",
    "import numpy as np\n",
    "\n",
    "from bokeh.io import push_notebook, show, output_notebook\n",
    "from bokeh.plotting import figure\n",
    "output_notebook()"
   ]
  },
  {
   "cell_type": "code",
   "execution_count": null,
   "id": "perfect-summer",
   "metadata": {},
   "outputs": [],
   "source": [
    "x = np.linspace(0, 2*np.pi, 2000)\n",
    "y = np.sin(x)"
   ]
  },
  {
   "cell_type": "code",
   "execution_count": null,
   "id": "second-connection",
   "metadata": {},
   "outputs": [],
   "source": [
    "p = figure(title=\"simple line example\", plot_height=300, plot_width=600, y_range=(-5,5),\n",
    "           background_fill_color='#efefef')\n",
    "r = p.line(x, y, color=\"#8888cc\", line_width=1.5, alpha=0.8)"
   ]
  },
  {
   "cell_type": "code",
   "execution_count": null,
   "id": "seeing-stanley",
   "metadata": {},
   "outputs": [],
   "source": [
    "def update(f, w=1, A=1, phi=0):\n",
    "    if   f == \"sin\": func = np.sin\n",
    "    elif f == \"cos\": func = np.cos\n",
    "    r.data_source.data['y'] = A * func(w * x + phi)\n",
    "    push_notebook()"
   ]
  },
  {
   "cell_type": "code",
   "execution_count": null,
   "id": "excessive-worse",
   "metadata": {},
   "outputs": [],
   "source": [
    "show(p, notebook_handle=True)"
   ]
  },
  {
   "cell_type": "code",
   "execution_count": null,
   "id": "scheduled-turner",
   "metadata": {},
   "outputs": [],
   "source": [
    "interact(update, f=[\"sin\", \"cos\"], w=(0,50), A=(1,10), phi=(0, 20, 0.1))"
   ]
  },
  {
   "cell_type": "code",
   "execution_count": null,
   "id": "owned-athletics",
   "metadata": {},
   "outputs": [],
   "source": []
  }
 ],
 "metadata": {
  "kernelspec": {
   "display_name": "Python 3",
   "language": "python",
   "name": "python3"
  },
  "language_info": {
   "codemirror_mode": {
    "name": "ipython",
    "version": 3
   },
   "file_extension": ".py",
   "mimetype": "text/x-python",
   "name": "python",
   "nbconvert_exporter": "python",
   "pygments_lexer": "ipython3",
   "version": "3.7.9"
  }
 },
 "nbformat": 4,
 "nbformat_minor": 5
}
