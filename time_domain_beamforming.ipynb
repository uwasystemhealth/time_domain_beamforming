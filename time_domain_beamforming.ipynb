{
 "cells": [
  {
   "cell_type": "markdown",
   "id": "fewer-gardening",
   "metadata": {},
   "source": [
    "# Simple example of time domain beamforming"
   ]
  },
  {
   "cell_type": "markdown",
   "id": "american-saver",
   "metadata": {},
   "source": [
    "Let's imagine that we have a point sound source in the far field, which is effectively creating planar waves impinging upon a two element array microphone array.\n",
    "\n",
    "The situation is depicted in the figures below.\n",
    "\n",
    "We begin by taking the [Jupyter Interactors](https://github.com/bokeh/bokeh/tree/2.3.0/examples/howto/notebook_comms/Jupyter%20Interactors.ipynb) example [User guide](https://docs.bokeh.org/en/latest/docs/user_guide/jupyter.html) and modifiying it to suit our requirements.\n",
    "\n",
    "Note that this interact does not seem to work in JupyterLab 3 at the moment.\n"
   ]
  },
  {
   "cell_type": "markdown",
   "id": "comparable-china",
   "metadata": {},
   "source": [
    "## Import modules"
   ]
  },
  {
   "cell_type": "code",
   "execution_count": null,
   "id": "silent-algeria",
   "metadata": {},
   "outputs": [],
   "source": [
    "from ipywidgets import interact\n",
    "import numpy as np\n",
    "\n",
    "from bokeh.io import push_notebook, show, output_notebook\n",
    "from bokeh.plotting import figure\n",
    "from bokeh.layouts import column\n",
    "output_notebook()"
   ]
  },
  {
   "cell_type": "markdown",
   "id": "supposed-annotation",
   "metadata": {},
   "source": [
    "## Set up parameters"
   ]
  },
  {
   "cell_type": "code",
   "execution_count": null,
   "id": "numerous-raleigh",
   "metadata": {},
   "outputs": [],
   "source": []
  },
  {
   "cell_type": "code",
   "execution_count": null,
   "id": "ruled-salon",
   "metadata": {},
   "outputs": [],
   "source": [
    "# Array characteristics\n",
    "num_elements = 3\n",
    "spacing = 0.1 # metres\n",
    "x_location = 0.5 # metres\n",
    "Arr = []\n",
    "for n in range(num_elements):\n",
    "    Arr.append([x_location,n*spacing])\n",
    "Arr = np.array(Arr)"
   ]
  },
  {
   "cell_type": "code",
   "execution_count": null,
   "id": "dependent-election",
   "metadata": {},
   "outputs": [],
   "source": [
    "microphone_array = [[0.5,0.05],[0.5,-0.05]]\n",
    "\n",
    "sample_rate = 48000\n",
    "sample_length = 0.001 # seconds\n",
    "A = 1 # Amplitude\n",
    "\n",
    "s_x = -0.5 # x location of source\n",
    "s_y = -0.25 # y location of source\n",
    "c = 340 # m/s (Speed of sound)\n",
    "λ = 0.1 # metres\n",
    "f = c/λ # Hz\n",
    "t_0 = 0\n",
    "π = np.pi\n",
    "\n",
    "print(f'f = {f} Hz, λ = {λ} m , T = {1/f:0.2e} s') \n",
    "\n",
    "N = 500\n",
    "x_min = -1\n",
    "x_max = 1\n",
    "x = np.linspace(x_min, x_max, N)\n",
    "y = np.linspace(x_min, x_max, N)\n",
    "t = np.arange(t_0, t_0+sample_length, 1/sample_rate)\n",
    "xx, yy = np.meshgrid(x, y)\n",
    "rr = np.sqrt((xx-s_x)*(xx-s_x) + (yy-s_y)*(yy-s_y))\n",
    "Z = A*np.cos(2*π/λ*(rr - c*t_0))\n",
    "\n",
    "p = figure(tooltips=[(\"x\", \"$x\"), (\"y\", \"$y\"), (\"value\", \"@image\")])\n",
    "p.x_range.range_padding = p.y_range.range_padding = 0\n",
    "\n",
    "# must give a vector of image data for image parameter\n",
    "p.image(image=[Z],\n",
    "        x=x_min, y=x_min,\n",
    "        dw=(x_max-x_min), dh=(x_max-x_min), \n",
    "        palette=\"Spectral11\", level=\"image\")\n",
    "p.circle(Arr[:,0],Arr[:,1],\n",
    "        size=10,\n",
    "        fill_color='lightgreen',\n",
    "        )\n",
    "p.grid.grid_line_width = 0.5\n",
    "\n",
    "q = figure()\n",
    "Y = []\n",
    "col = ['red','green','blue']\n",
    "for n in range(num_elements):\n",
    "    r = np.sqrt((Arr[n,0]-s_x)*(Arr[n,0]-s_x) + \n",
    "                (Arr[n,1]-s_y)*(Arr[n,1]-s_y))\n",
    "    F = A*np.cos(2*π/λ*(r - c*t))\n",
    "    Y.append(F)\n",
    "    q.line(t,F,color=col[n])\n",
    "\n",
    "show(column(p,q), notebook_handle=True)"
   ]
  },
  {
   "cell_type": "code",
   "execution_count": null,
   "id": "animated-venture",
   "metadata": {},
   "outputs": [],
   "source": [
    "p = figure(title=\"simple line example\", plot_height=300, plot_width=600, y_range=(-5,5),\n",
    "           background_fill_color='#efefef')\n",
    "r = p.line(x, y, color=\"#8888cc\", line_width=1.5, alpha=0.8)"
   ]
  },
  {
   "cell_type": "code",
   "execution_count": null,
   "id": "eight-headquarters",
   "metadata": {},
   "outputs": [],
   "source": [
    "def update(f, w=1, A=1, phi=0):\n",
    "    if   f == \"sin\": func = np.sin\n",
    "    elif f == \"cos\": func = np.cos\n",
    "    r.data_source.data['y'] = A * func(w * x + phi)\n",
    "    push_notebook()"
   ]
  },
  {
   "cell_type": "code",
   "execution_count": null,
   "id": "bronze-occasion",
   "metadata": {},
   "outputs": [],
   "source": [
    "show(p, notebook_handle=True)"
   ]
  },
  {
   "cell_type": "code",
   "execution_count": null,
   "id": "excessive-evans",
   "metadata": {},
   "outputs": [],
   "source": [
    "interact(update, f=[\"sin\", \"cos\"], w=(0,50), A=(1,10), phi=(0, 20, 0.1))"
   ]
  },
  {
   "cell_type": "code",
   "execution_count": null,
   "id": "upper-somerset",
   "metadata": {},
   "outputs": [],
   "source": [
    "p.image?"
   ]
  },
  {
   "cell_type": "code",
   "execution_count": null,
   "id": "blind-manor",
   "metadata": {},
   "outputs": [],
   "source": []
  }
 ],
 "metadata": {
  "kernelspec": {
   "display_name": "Python 3",
   "language": "python",
   "name": "python3"
  },
  "language_info": {
   "codemirror_mode": {
    "name": "ipython",
    "version": 3
   },
   "file_extension": ".py",
   "mimetype": "text/x-python",
   "name": "python",
   "nbconvert_exporter": "python",
   "pygments_lexer": "ipython3",
   "version": "3.7.9"
  }
 },
 "nbformat": 4,
 "nbformat_minor": 5
}
